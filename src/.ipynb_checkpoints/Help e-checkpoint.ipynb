{
 "cells": [
  {
   "cell_type": "code",
   "execution_count": 14,
   "id": "54999762",
   "metadata": {},
   "outputs": [],
   "source": [
    "import numpy as np\n",
    "def load_data(fileName):\n",
    "    conversions = dict()\n",
    "    idx = 0\n",
    "    outData = []\n",
    "    with open(fileName, 'r') as f:\n",
    "        for ln in f.readlines():\n",
    "            arr = ln.strip().replace('\"', '').split(',')\n",
    "#             print(arr)\n",
    "            if arr[0] in conversions.keys():\n",
    "                arr[0] = conversions[arr[0]]\n",
    "            else:\n",
    "                conversions[arr[0]] = idx\n",
    "                idx = idx + 1\n",
    "                arr[0] = conversions[arr[0]]\n",
    "\n",
    "            if arr[2] in conversions.keys():\n",
    "                arr[2] = conversions[arr[2]]\n",
    "            else:\n",
    "                conversions[arr[2]] = idx\n",
    "                idx = idx + 1\n",
    "                arr[2] = conversions[arr[2]]\n",
    "            outData.append(arr[:4])\n",
    "    return np.asarray(outData, dtype=int), conversions\n",
    "\n",
    "V, conversions = load_data(\"../data/karate.csv\")\n",
    "def PageRank2(V):\n",
    "    return np.ones(V.shape[0]) / V.shape[0]\n",
    "d = .85\n",
    "Vcardinality = V.shape[0]\n",
    "inverseVcardinality = 1 / Vcardinality\n",
    "allNodes, outBoundEdges = np.unique(np.concatenate((V[..., 0], V[..., 2])), return_counts=1)\n",
    "\n",
    "pageRanki = PageRank2(allNodes)\n",
    "\n",
    "inverseOutBound = 1 / outBoundEdges\n",
    "\n",
    "inboundEdges = [0] * allNodes.shape[0]\n",
    "# inboundEdgesC = [0] * allNodes.shape[0]\n",
    "# for i in range(allNodes.shape[0]):\n",
    "#     inboundEdges[i] = (V[V[..., 0] == allNodes[i]][..., 2])\n",
    "#     inboundEdgesC[i] = inboundEdges[i].shape[0]\n",
    "# inboundEdgesC = np.asarray(inboundEdgesC)\n",
    "# inboundEdges = np.asarray(inboundEdges)\n",
    "#\n",
    "\n",
    "#\n",
    "# previousPageRanki = pageRanki[:]\n",
    "#\n",
    "# while(sum(pageRanki) - )\n",
    "\n",
    "matrix = np.zeros((allNodes.shape[0], allNodes.shape[0]))\n",
    "for i, _, j, _ in V:\n",
    "    matrix[j - 1, i - 1] = 1\n",
    "matrix  = matrix * (np.divide(1, np.count_nonzero(matrix, axis=0),\n",
    "                              out=np.zeros_like(matrix),\n",
    "                              where = (np.count_nonzero(matrix, axis=0) > 0)))\n",
    "constant1 = (1 - d) * inverseVcardinality\n",
    "epsilon = .05\n",
    "r = 1"
   ]
  },
  {
   "cell_type": "code",
   "execution_count": 16,
   "id": "26bd0085",
   "metadata": {},
   "outputs": [
    {
     "data": {
      "text/plain": [
       "(34, 34)"
      ]
     },
     "execution_count": 16,
     "metadata": {},
     "output_type": "execute_result"
    }
   ],
   "source": [
    "matrix.shape"
   ]
  },
  {
   "cell_type": "code",
   "execution_count": null,
   "id": "b4150a58",
   "metadata": {},
   "outputs": [],
   "source": [
    "import numpy as np\n",
    "\n",
    "def pagerank(M, d=.85, eps=.05):\n",
    "    n = M.shape[0]\n",
    "    V = np.ones(n) / n\n",
    "    while True:\n",
    "        V_last = V[:]\n",
    "        V = np.dot(M, V)\n",
    "                if  l1(V-V_last)/n < eps:\n",
    "            return V"
   ]
  }
 ],
 "metadata": {
  "kernelspec": {
   "display_name": "Python 3 (ipykernel)",
   "language": "python",
   "name": "python3"
  },
  "language_info": {
   "codemirror_mode": {
    "name": "ipython",
    "version": 3
   },
   "file_extension": ".py",
   "mimetype": "text/x-python",
   "name": "python",
   "nbconvert_exporter": "python",
   "pygments_lexer": "ipython3",
   "version": "3.8.8"
  }
 },
 "nbformat": 4,
 "nbformat_minor": 5
}
